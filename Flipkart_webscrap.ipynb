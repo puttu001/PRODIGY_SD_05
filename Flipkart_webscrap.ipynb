{
 "cells": [
  {
   "cell_type": "markdown",
   "metadata": {},
   "source": [
    "Importing important Libraries"
   ]
  },
  {
   "cell_type": "code",
   "execution_count": 31,
   "metadata": {},
   "outputs": [],
   "source": [
    "import pandas as pd\n",
    "import requests\n",
    "from bs4 import BeautifulSoup"
   ]
  },
  {
   "cell_type": "markdown",
   "metadata": {},
   "source": [
    "Creating Empty lists for data storage"
   ]
  },
  {
   "cell_type": "code",
   "execution_count": 32,
   "metadata": {},
   "outputs": [],
   "source": [
    "Product_name = []\n",
    "Prices =[]\n",
    "Ratings =[]\n",
    "Description =[]"
   ]
  },
  {
   "cell_type": "markdown",
   "metadata": {},
   "source": [
    "###Explaining things and extracting data for single page"
   ]
  },
  {
   "cell_type": "markdown",
   "metadata": {},
   "source": [
    "Embedding URL and making request\n",
    "Response <200> if everything is right\n",
    "Response <500> if there is an error "
   ]
  },
  {
   "cell_type": "code",
   "execution_count": 33,
   "metadata": {},
   "outputs": [
    {
     "name": "stdout",
     "output_type": "stream",
     "text": [
      "<Response [200]>\n"
     ]
    }
   ],
   "source": [
    "url =\"https://www.flipkart.com/search?q=mobile+under+50000&otracker=search&otracker1=search&marketplace=FLIPKART&as-show=on&as=off&p%5B%5D=facets.rating%255B%255D%3D3%25E2%2598%2585%2B%2526%2Babove&page=1\"\n",
    "\n",
    "headers = {\n",
    "    \"User-Agent\": \"Mozilla/5.0 (Windows NT 10.0; Win64; x64) AppleWebKit/537.36 (KHTML, like Gecko) Chrome/91.0.4472.124 Safari/537.36\",\n",
    "    \"Accept-Language\": \"en-US,en;q=0.9\",\n",
    "    \"Accept-Encoding\": \"gzip, deflate, br\",\n",
    "    \"Connection\": \"keep-alive\",\n",
    "    \"Accept\": \"text/html,application/xhtml+xml,application/xml;q=0.9,image/webp,image/apng,*/*;q=0.8\",\n",
    "    \"Upgrade-Insecure-Requests\": \"1\"\n",
    "}\n",
    "\n",
    "session = requests.Session()\n",
    "r = session.get(url, headers=headers)\n",
    "print(r)"
   ]
  },
  {
   "cell_type": "code",
   "execution_count": 34,
   "metadata": {},
   "outputs": [],
   "source": [
    "soup = BeautifulSoup(r.text, \"lxml\")\n",
    "# print(soup)"
   ]
  },
  {
   "cell_type": "markdown",
   "metadata": {},
   "source": [
    "Taking the important area from the website page"
   ]
  },
  {
   "cell_type": "code",
   "execution_count": 35,
   "metadata": {},
   "outputs": [],
   "source": [
    "box = soup.find(\"div\",class_ =\"DOjaWF gdgoEp\")"
   ]
  },
  {
   "cell_type": "markdown",
   "metadata": {},
   "source": [
    "Data appending in list from appropriate classes from website"
   ]
  },
  {
   "cell_type": "code",
   "execution_count": 36,
   "metadata": {},
   "outputs": [],
   "source": [
    "names = box.find_all(\"div\",class_ = \"KzDlHZ\")\n",
    "# print(names)\n",
    "for i in names:\n",
    "    name = i.text\n",
    "    if name:\n",
    "        Product_name.append(name)\n",
    "    else:\n",
    "        Product_name.append(None) \n",
    "        \n",
    "prices = box.find_all(\"div\",class_=\"Nx9bqj _4b5DiR\")\n",
    "for i in prices:\n",
    "    name = i.text\n",
    "    if name:\n",
    "        Prices.append(name)\n",
    "    else:\n",
    "        Prices.append(None)  \n",
    "\n",
    "ratings = box.find_all(\"div\",class_=\"XQDdHH\")\n",
    "for i in ratings:\n",
    "    name=i.text\n",
    "    if name:\n",
    "        Ratings.append(name)\n",
    "    else:\n",
    "        Ratings.append(None) \n",
    "\n",
    "desc = box.find_all(\"ul\",class_=\"G4BRas\")\n",
    "for i in desc:\n",
    "    name=i.text\n",
    "    if name:\n",
    "        Description.append(name)\n",
    "    else:\n",
    "        Description.append(None)\n"
   ]
  },
  {
   "cell_type": "code",
   "execution_count": 37,
   "metadata": {},
   "outputs": [
    {
     "name": "stdout",
     "output_type": "stream",
     "text": [
      "                                         Product_name   Prices Ratings  \\\n",
      "0                  realme P1 5G (Phoenix Red, 128 GB)  ₹16,999     4.4   \n",
      "1                     OnePlus 12R (Iron Grey, 256 GB)  ₹43,290     4.5   \n",
      "2                     OnePlus 12R (Cool Blue, 256 GB)  ₹43,139     4.5   \n",
      "3                SAMSUNG Galaxy S23 FE (Mint, 256 GB)  ₹49,999     4.3   \n",
      "4            SAMSUNG Galaxy S23 FE (Graphite, 256 GB)  ₹49,999     4.3   \n",
      "5              SAMSUNG Galaxy S23 FE (Purple, 256 GB)  ₹49,999     4.3   \n",
      "6               Xiaomi 14 CIVI (Matcha Green, 512 GB)  ₹47,999     4.2   \n",
      "7             Xiaomi 12 Pro 5G (Couture Blue, 256 GB)  ₹47,990     4.1   \n",
      "8             vivo V30 Pro 5G (Classic Black, 512 GB)  ₹46,999     4.5   \n",
      "9              vivo V30 Pro 5G (Andaman Blue, 512 GB)  ₹46,999     4.5   \n",
      "10               Xiaomi 14 CIVI (Cruise Blue, 512 GB)  ₹47,999     4.2   \n",
      "11              Xiaomi 14 CIVI (Shadow Black, 512 GB)  ₹47,999     4.2   \n",
      "12  Apple iPhone XR ((PRODUCT)RED, 64 GB) (Include...  ₹47,900     4.6   \n",
      "13    SAMSUNG Galaxy A55 5G (Awesome Iceblue, 256 GB)  ₹45,999     4.4   \n",
      "14              OnePlus 11 5G (Eternal Green, 128 GB)  ₹45,937     4.4   \n",
      "15       SAMSUNG Galaxy A55 5G (Awesome Navy, 256 GB)  ₹45,999     4.4   \n",
      "16         OPPO Reno10 Pro+ 5G (Silvery Grey, 256 GB)  ₹54,999     4.5   \n",
      "17                OnePlus 11 5G (Titan Black, 128 GB)  ₹45,999     4.4   \n",
      "18       SAMSUNG Galaxy A54 5G (Awesome Lime, 256 GB)  ₹35,499     4.3   \n",
      "19               vivo X70 Pro+ (Enigma Black, 256 GB)  ₹49,999     4.5   \n",
      "20              Xiaomi 12 Pro 5G (Noir Black, 256 GB)  ₹46,990     4.1   \n",
      "21                  vivo X60 (Midnight Black, 256 GB)  ₹46,990     4.4   \n",
      "22  Samsung Galaxy S21 FE 5G with Snapdragon 888 (...  ₹74,999     4.3   \n",
      "23              MOTOROLA razr 40 (Sage Green, 256 GB)  ₹49,999     4.3   \n",
      "\n",
      "                                          Description  \n",
      "0   8 GB RAM | 128 GB ROM | Expandable Upto 2 TB16...  \n",
      "1   16 GB RAM | 256 GB ROM17.22 cm (6.78 inch) Dis...  \n",
      "2   16 GB RAM | 256 GB ROM17.22 cm (6.78 inch) Dis...  \n",
      "3   8 GB RAM | 256 GB ROM16.26 cm (6.4 inch) Full ...  \n",
      "4   8 GB RAM | 256 GB ROM16.26 cm (6.4 inch) Full ...  \n",
      "5   8 GB RAM | 256 GB ROM16.26 cm (6.4 inch) Full ...  \n",
      "6   12 GB RAM | 512 GB ROM16.64 cm (6.55 inch) Dis...  \n",
      "7   8 GB RAM | 256 GB ROM17.09 cm (6.73 inch) Full...  \n",
      "8   12 GB RAM | 512 GB ROM17.22 cm (6.78 inch) Ful...  \n",
      "9   12 GB RAM | 512 GB ROM17.22 cm (6.78 inch) Ful...  \n",
      "10  12 GB RAM | 512 GB ROM16.64 cm (6.55 inch) Dis...  \n",
      "11  12 GB RAM | 512 GB ROM16.64 cm (6.55 inch) Dis...  \n",
      "12  64 GB ROM15.49 cm (6.1 inch) Display12MP Rear ...  \n",
      "13  12 GB RAM | 256 GB ROM | Expandable Upto 1 TB1...  \n",
      "14  8 GB RAM | 128 GB ROM17.02 cm (6.7 inch) Displ...  \n",
      "15  12 GB RAM | 256 GB ROM | Expandable Upto 1 TB1...  \n",
      "16  12 GB RAM | 256 GB ROM17.12 cm (6.74 inch) Ful...  \n",
      "17  8 GB RAM | 128 GB ROM17.02 cm (6.7 inch) Displ...  \n",
      "18  8 GB RAM | 256 GB ROM | Expandable Upto 1 TB16...  \n",
      "19  12 GB RAM | 256 GB ROM17.22 cm (6.78 inch) WQH...  \n",
      "20  8 GB RAM | 256 GB ROM17.09 cm (6.73 inch) Full...  \n",
      "21  12 GB RAM | 256 GB ROM16.66 cm (6.56 inch) Ful...  \n",
      "22  8 GB RAM | 256 GB ROM16.26 cm (6.4 inch) Full ...  \n",
      "23  8 GB RAM | 256 GB ROM17.53 cm (6.9 inch) Displ...  \n"
     ]
    }
   ],
   "source": [
    "df1 = pd.DataFrame({\"Product_name\":Product_name,\"Prices\":Prices,\"Ratings\":Ratings,\"Description\":Description})\n",
    "print(df1)"
   ]
  },
  {
   "cell_type": "markdown",
   "metadata": {},
   "source": [
    "Adding above codes under loop for multiple pages and larger data"
   ]
  },
  {
   "cell_type": "code",
   "execution_count": 38,
   "metadata": {},
   "outputs": [],
   "source": [
    "#Iterate according to requierd data\n",
    "for i in range(2,10):\n",
    "    url =\"https://www.flipkart.com/search?q=mobile+under+50000&otracker=search&otracker1=search&marketplace=FLIPKART&as-show=on&as=off&p%5B%5D=facets.rating%255B%255D%3D3%25E2%2598%2585%2B%2526%2Babove&page=\"+str(i)\n",
    "\n",
    "    headers = {\n",
    "        \"User-Agent\": \"Mozilla/5.0 (Windows NT 10.0; Win64; x64) AppleWebKit/537.36 (KHTML, like Gecko) Chrome/91.0.4472.124 Safari/537.36\",\n",
    "        \"Accept-Language\": \"en-US,en;q=0.9\",\n",
    "        \"Accept-Encoding\": \"gzip, deflate, br\",\n",
    "        \"Connection\": \"keep-alive\",\n",
    "        \"Accept\": \"text/html,application/xhtml+xml,application/xml;q=0.9,image/webp,image/apng,*/*;q=0.8\",\n",
    "        \"Upgrade-Insecure-Requests\": \"1\"\n",
    "    }\n",
    "\n",
    "    session = requests.Session()\n",
    "    r = session.get(url, headers=headers)\n",
    "    # print(r)\n",
    "    soup = BeautifulSoup(r.text, \"lxml\")\n",
    "    # print(soup)\n",
    "    box = soup.find(\"div\",class_ =\"DOjaWF gdgoEp\")\n",
    "    names = box.find_all(\"div\",class_ = \"KzDlHZ\")\n",
    "    # print(names)\n",
    "    for i in names:\n",
    "        name = i.text\n",
    "        if name:\n",
    "            Product_name.append(name)\n",
    "        else:\n",
    "            Product_name.append(None) \n",
    "            \n",
    "    prices = box.find_all(\"div\",class_=\"Nx9bqj _4b5DiR\")\n",
    "    for i in prices:\n",
    "        name = i.text\n",
    "        if name:\n",
    "            Prices.append(name)\n",
    "        else:\n",
    "            Prices.append(None)  \n",
    "\n",
    "    ratings = box.find_all(\"div\",class_=\"XQDdHH\")\n",
    "    for i in ratings:\n",
    "        name=i.text\n",
    "        if name:\n",
    "            Ratings.append(name)\n",
    "        else:\n",
    "            Ratings.append(None) \n",
    "    \n",
    "    desc = box.find_all(\"ul\",class_=\"G4BRas\")\n",
    "    for i in desc:\n",
    "        name=i.text\n",
    "        if name:\n",
    "            Description.append(name)\n",
    "        else:\n",
    "            Description.append(None)\n",
    "\n"
   ]
  },
  {
   "cell_type": "code",
   "execution_count": 39,
   "metadata": {},
   "outputs": [
    {
     "name": "stdout",
     "output_type": "stream",
     "text": [
      "                                 Product_name   Prices Ratings  \\\n",
      "0          realme P1 5G (Phoenix Red, 128 GB)  ₹16,999     4.4   \n",
      "1             OnePlus 12R (Iron Grey, 256 GB)  ₹43,290     4.5   \n",
      "2             OnePlus 12R (Cool Blue, 256 GB)  ₹43,139     4.5   \n",
      "3        SAMSUNG Galaxy S23 FE (Mint, 256 GB)  ₹49,999     4.3   \n",
      "4    SAMSUNG Galaxy S23 FE (Graphite, 256 GB)  ₹49,999     4.3   \n",
      "..                                        ...      ...     ...   \n",
      "211      Motorola g64 5G (Mint Green, 128 GB)  ₹13,999     4.2   \n",
      "212           POCO C65 (Pastel Green, 128 GB)   ₹6,799     4.3   \n",
      "213            POCO C65 (Matte Black, 128 GB)   ₹6,799     4.3   \n",
      "214      Motorola g64 5G (Pearl Blue, 256 GB)  ₹15,999     4.2   \n",
      "215          Motorola g04s (Sea Green, 64 GB)   ₹6,999     4.3   \n",
      "\n",
      "                                           Description  \n",
      "0    8 GB RAM | 128 GB ROM | Expandable Upto 2 TB16...  \n",
      "1    16 GB RAM | 256 GB ROM17.22 cm (6.78 inch) Dis...  \n",
      "2    16 GB RAM | 256 GB ROM17.22 cm (6.78 inch) Dis...  \n",
      "3    8 GB RAM | 256 GB ROM16.26 cm (6.4 inch) Full ...  \n",
      "4    8 GB RAM | 256 GB ROM16.26 cm (6.4 inch) Full ...  \n",
      "..                                                 ...  \n",
      "211  8 GB RAM | 128 GB ROM | Expandable Upto 1 TB16...  \n",
      "212  4 GB RAM | 128 GB ROM | Expandable Upto 1 TB17...  \n",
      "213  4 GB RAM | 128 GB ROM | Expandable Upto 1 TB17...  \n",
      "214  12 GB RAM | 256 GB ROM | Expandable Upto 1 TB1...  \n",
      "215  4 GB RAM | 64 GB ROM | Expandable Upto 1 TB16....  \n",
      "\n",
      "[216 rows x 4 columns]\n"
     ]
    }
   ],
   "source": [
    "df_all = pd.DataFrame({\"Product_name\":Product_name,\"Prices\":Prices,\"Ratings\":Ratings,\"Description\":Description})\n",
    "print(df_all)\n",
    "df_all.to_csv(\"Mobiles_under_50000.csv\")"
   ]
  }
 ],
 "metadata": {
  "kernelspec": {
   "display_name": "Python 3",
   "language": "python",
   "name": "python3"
  },
  "language_info": {
   "codemirror_mode": {
    "name": "ipython",
    "version": 3
   },
   "file_extension": ".py",
   "mimetype": "text/x-python",
   "name": "python",
   "nbconvert_exporter": "python",
   "pygments_lexer": "ipython3",
   "version": "3.12.1"
  }
 },
 "nbformat": 4,
 "nbformat_minor": 2
}
